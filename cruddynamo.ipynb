{
 "cells": [
  {
   "cell_type": "markdown",
   "metadata": {},
   "source": [
    "@Author:Vijay Kumar M N<br>\n",
    "@Date: 2024-10-25<br>\n",
    "@Last Modified by:Vijay Kumar M N<br>\n",
    "@Last Modified: 2024-10-25<br>\n",
    "@Title :Python Program to interact with dynamodb and crud operations<br>"
   ]
  },
  {
   "cell_type": "code",
   "execution_count": 23,
   "metadata": {},
   "outputs": [],
   "source": [
    "import boto3\n",
    "from botocore.exceptions import ClientError\n",
    "from pprint import pprint\n"
   ]
  },
  {
   "cell_type": "code",
   "execution_count": 24,
   "metadata": {},
   "outputs": [],
   "source": [
    "client = boto3.client('dynamodb')\n"
   ]
  },
  {
   "cell_type": "code",
   "execution_count": 25,
   "metadata": {},
   "outputs": [
    {
     "ename": "ResourceInUseException",
     "evalue": "An error occurred (ResourceInUseException) when calling the CreateTable operation: Table already exists: Movies",
     "output_type": "error",
     "traceback": [
      "\u001b[1;31m---------------------------------------------------------------------------\u001b[0m",
      "\u001b[1;31mResourceInUseException\u001b[0m                    Traceback (most recent call last)",
      "Cell \u001b[1;32mIn[25], line 37\u001b[0m\n\u001b[0;32m     31\u001b[0m     \u001b[38;5;28;01mreturn\u001b[39;00m table\n\u001b[0;32m     34\u001b[0m \u001b[38;5;28;01mif\u001b[39;00m \u001b[38;5;18m__name__\u001b[39m \u001b[38;5;241m==\u001b[39m \u001b[38;5;124m'\u001b[39m\u001b[38;5;124m__main__\u001b[39m\u001b[38;5;124m'\u001b[39m:\n\u001b[0;32m     35\u001b[0m \n\u001b[0;32m     36\u001b[0m     \u001b[38;5;66;03m## Create DynamoDB\u001b[39;00m\n\u001b[1;32m---> 37\u001b[0m     movie_table \u001b[38;5;241m=\u001b[39m \u001b[43mcreate_movie_table\u001b[49m\u001b[43m(\u001b[49m\u001b[43m)\u001b[49m\n\u001b[0;32m     38\u001b[0m     \u001b[38;5;28mprint\u001b[39m(\u001b[38;5;124m\"\u001b[39m\u001b[38;5;124mCreate DynamoDB succeeded............\u001b[39m\u001b[38;5;124m\"\u001b[39m)\n\u001b[0;32m     39\u001b[0m     \u001b[38;5;28mprint\u001b[39m(\u001b[38;5;124m\"\u001b[39m\u001b[38;5;124mTable status:\u001b[39m\u001b[38;5;132;01m{}\u001b[39;00m\u001b[38;5;124m\"\u001b[39m\u001b[38;5;241m.\u001b[39mformat(movie_table))\n",
      "Cell \u001b[1;32mIn[25], line 3\u001b[0m, in \u001b[0;36mcreate_movie_table\u001b[1;34m()\u001b[0m\n\u001b[0;32m      2\u001b[0m \u001b[38;5;28;01mdef\u001b[39;00m \u001b[38;5;21mcreate_movie_table\u001b[39m():\n\u001b[1;32m----> 3\u001b[0m     table \u001b[38;5;241m=\u001b[39m \u001b[43mclient\u001b[49m\u001b[38;5;241;43m.\u001b[39;49m\u001b[43mcreate_table\u001b[49m\u001b[43m(\u001b[49m\n\u001b[0;32m      4\u001b[0m \u001b[43m        \u001b[49m\u001b[43mTableName\u001b[49m\u001b[38;5;241;43m=\u001b[39;49m\u001b[38;5;124;43m'\u001b[39;49m\u001b[38;5;124;43mMovies\u001b[39;49m\u001b[38;5;124;43m'\u001b[39;49m\u001b[43m,\u001b[49m\n\u001b[0;32m      5\u001b[0m \u001b[43m        \u001b[49m\u001b[43mKeySchema\u001b[49m\u001b[38;5;241;43m=\u001b[39;49m\u001b[43m[\u001b[49m\n\u001b[0;32m      6\u001b[0m \u001b[43m            \u001b[49m\u001b[43m{\u001b[49m\n\u001b[0;32m      7\u001b[0m \u001b[43m                \u001b[49m\u001b[38;5;124;43m'\u001b[39;49m\u001b[38;5;124;43mAttributeName\u001b[39;49m\u001b[38;5;124;43m'\u001b[39;49m\u001b[43m:\u001b[49m\u001b[43m \u001b[49m\u001b[38;5;124;43m'\u001b[39;49m\u001b[38;5;124;43myear\u001b[39;49m\u001b[38;5;124;43m'\u001b[39;49m\u001b[43m,\u001b[49m\n\u001b[0;32m      8\u001b[0m \u001b[43m                \u001b[49m\u001b[38;5;124;43m'\u001b[39;49m\u001b[38;5;124;43mKeyType\u001b[39;49m\u001b[38;5;124;43m'\u001b[39;49m\u001b[43m:\u001b[49m\u001b[43m \u001b[49m\u001b[38;5;124;43m'\u001b[39;49m\u001b[38;5;124;43mHASH\u001b[39;49m\u001b[38;5;124;43m'\u001b[39;49m\u001b[43m  \u001b[49m\u001b[38;5;66;43;03m# Partition key\u001b[39;49;00m\n\u001b[0;32m      9\u001b[0m \u001b[43m            \u001b[49m\u001b[43m}\u001b[49m\u001b[43m,\u001b[49m\n\u001b[0;32m     10\u001b[0m \u001b[43m            \u001b[49m\u001b[43m{\u001b[49m\n\u001b[0;32m     11\u001b[0m \u001b[43m                \u001b[49m\u001b[38;5;124;43m'\u001b[39;49m\u001b[38;5;124;43mAttributeName\u001b[39;49m\u001b[38;5;124;43m'\u001b[39;49m\u001b[43m:\u001b[49m\u001b[43m \u001b[49m\u001b[38;5;124;43m'\u001b[39;49m\u001b[38;5;124;43mtitle\u001b[39;49m\u001b[38;5;124;43m'\u001b[39;49m\u001b[43m,\u001b[49m\n\u001b[0;32m     12\u001b[0m \u001b[43m                \u001b[49m\u001b[38;5;124;43m'\u001b[39;49m\u001b[38;5;124;43mKeyType\u001b[39;49m\u001b[38;5;124;43m'\u001b[39;49m\u001b[43m:\u001b[49m\u001b[43m \u001b[49m\u001b[38;5;124;43m'\u001b[39;49m\u001b[38;5;124;43mRANGE\u001b[39;49m\u001b[38;5;124;43m'\u001b[39;49m\u001b[43m  \u001b[49m\u001b[38;5;66;43;03m# Sort key\u001b[39;49;00m\n\u001b[0;32m     13\u001b[0m \u001b[43m            \u001b[49m\u001b[43m}\u001b[49m\n\u001b[0;32m     14\u001b[0m \u001b[43m        \u001b[49m\u001b[43m]\u001b[49m\u001b[43m,\u001b[49m\n\u001b[0;32m     15\u001b[0m \u001b[43m        \u001b[49m\u001b[43mAttributeDefinitions\u001b[49m\u001b[38;5;241;43m=\u001b[39;49m\u001b[43m[\u001b[49m\n\u001b[0;32m     16\u001b[0m \u001b[43m            \u001b[49m\u001b[43m{\u001b[49m\n\u001b[0;32m     17\u001b[0m \u001b[43m                \u001b[49m\u001b[38;5;124;43m'\u001b[39;49m\u001b[38;5;124;43mAttributeName\u001b[39;49m\u001b[38;5;124;43m'\u001b[39;49m\u001b[43m:\u001b[49m\u001b[43m \u001b[49m\u001b[38;5;124;43m'\u001b[39;49m\u001b[38;5;124;43myear\u001b[39;49m\u001b[38;5;124;43m'\u001b[39;49m\u001b[43m,\u001b[49m\n\u001b[0;32m     18\u001b[0m \u001b[43m                \u001b[49m\u001b[38;5;124;43m'\u001b[39;49m\u001b[38;5;124;43mAttributeType\u001b[39;49m\u001b[38;5;124;43m'\u001b[39;49m\u001b[43m:\u001b[49m\u001b[43m \u001b[49m\u001b[38;5;124;43m'\u001b[39;49m\u001b[38;5;124;43mN\u001b[39;49m\u001b[38;5;124;43m'\u001b[39;49m\n\u001b[0;32m     19\u001b[0m \u001b[43m            \u001b[49m\u001b[43m}\u001b[49m\u001b[43m,\u001b[49m\n\u001b[0;32m     20\u001b[0m \u001b[43m            \u001b[49m\u001b[43m{\u001b[49m\n\u001b[0;32m     21\u001b[0m \u001b[43m                \u001b[49m\u001b[38;5;124;43m'\u001b[39;49m\u001b[38;5;124;43mAttributeName\u001b[39;49m\u001b[38;5;124;43m'\u001b[39;49m\u001b[43m:\u001b[49m\u001b[43m \u001b[49m\u001b[38;5;124;43m'\u001b[39;49m\u001b[38;5;124;43mtitle\u001b[39;49m\u001b[38;5;124;43m'\u001b[39;49m\u001b[43m,\u001b[49m\n\u001b[0;32m     22\u001b[0m \u001b[43m                \u001b[49m\u001b[38;5;124;43m'\u001b[39;49m\u001b[38;5;124;43mAttributeType\u001b[39;49m\u001b[38;5;124;43m'\u001b[39;49m\u001b[43m:\u001b[49m\u001b[43m \u001b[49m\u001b[38;5;124;43m'\u001b[39;49m\u001b[38;5;124;43mS\u001b[39;49m\u001b[38;5;124;43m'\u001b[39;49m\n\u001b[0;32m     23\u001b[0m \u001b[43m            \u001b[49m\u001b[43m}\u001b[49m\u001b[43m,\u001b[49m\n\u001b[0;32m     24\u001b[0m \n\u001b[0;32m     25\u001b[0m \u001b[43m        \u001b[49m\u001b[43m]\u001b[49m\u001b[43m,\u001b[49m\n\u001b[0;32m     26\u001b[0m \u001b[43m        \u001b[49m\u001b[43mProvisionedThroughput\u001b[49m\u001b[38;5;241;43m=\u001b[39;49m\u001b[43m{\u001b[49m\n\u001b[0;32m     27\u001b[0m \u001b[43m            \u001b[49m\u001b[38;5;124;43m'\u001b[39;49m\u001b[38;5;124;43mReadCapacityUnits\u001b[39;49m\u001b[38;5;124;43m'\u001b[39;49m\u001b[43m:\u001b[49m\u001b[43m \u001b[49m\u001b[38;5;241;43m10\u001b[39;49m\u001b[43m,\u001b[49m\n\u001b[0;32m     28\u001b[0m \u001b[43m            \u001b[49m\u001b[38;5;124;43m'\u001b[39;49m\u001b[38;5;124;43mWriteCapacityUnits\u001b[39;49m\u001b[38;5;124;43m'\u001b[39;49m\u001b[43m:\u001b[49m\u001b[43m \u001b[49m\u001b[38;5;241;43m10\u001b[39;49m\n\u001b[0;32m     29\u001b[0m \u001b[43m        \u001b[49m\u001b[43m}\u001b[49m\n\u001b[0;32m     30\u001b[0m \u001b[43m    \u001b[49m\u001b[43m)\u001b[49m\n\u001b[0;32m     31\u001b[0m     \u001b[38;5;28;01mreturn\u001b[39;00m table\n",
      "File \u001b[1;32mc:\\Python312\\Lib\\site-packages\\botocore\\client.py:569\u001b[0m, in \u001b[0;36mClientCreator._create_api_method.<locals>._api_call\u001b[1;34m(self, *args, **kwargs)\u001b[0m\n\u001b[0;32m    565\u001b[0m     \u001b[38;5;28;01mraise\u001b[39;00m \u001b[38;5;167;01mTypeError\u001b[39;00m(\n\u001b[0;32m    566\u001b[0m         \u001b[38;5;124mf\u001b[39m\u001b[38;5;124m\"\u001b[39m\u001b[38;5;132;01m{\u001b[39;00mpy_operation_name\u001b[38;5;132;01m}\u001b[39;00m\u001b[38;5;124m() only accepts keyword arguments.\u001b[39m\u001b[38;5;124m\"\u001b[39m\n\u001b[0;32m    567\u001b[0m     )\n\u001b[0;32m    568\u001b[0m \u001b[38;5;66;03m# The \"self\" in this scope is referring to the BaseClient.\u001b[39;00m\n\u001b[1;32m--> 569\u001b[0m \u001b[38;5;28;01mreturn\u001b[39;00m \u001b[38;5;28;43mself\u001b[39;49m\u001b[38;5;241;43m.\u001b[39;49m\u001b[43m_make_api_call\u001b[49m\u001b[43m(\u001b[49m\u001b[43moperation_name\u001b[49m\u001b[43m,\u001b[49m\u001b[43m \u001b[49m\u001b[43mkwargs\u001b[49m\u001b[43m)\u001b[49m\n",
      "File \u001b[1;32mc:\\Python312\\Lib\\site-packages\\botocore\\client.py:1023\u001b[0m, in \u001b[0;36mBaseClient._make_api_call\u001b[1;34m(self, operation_name, api_params)\u001b[0m\n\u001b[0;32m   1019\u001b[0m     error_code \u001b[38;5;241m=\u001b[39m error_info\u001b[38;5;241m.\u001b[39mget(\u001b[38;5;124m\"\u001b[39m\u001b[38;5;124mQueryErrorCode\u001b[39m\u001b[38;5;124m\"\u001b[39m) \u001b[38;5;129;01mor\u001b[39;00m error_info\u001b[38;5;241m.\u001b[39mget(\n\u001b[0;32m   1020\u001b[0m         \u001b[38;5;124m\"\u001b[39m\u001b[38;5;124mCode\u001b[39m\u001b[38;5;124m\"\u001b[39m\n\u001b[0;32m   1021\u001b[0m     )\n\u001b[0;32m   1022\u001b[0m     error_class \u001b[38;5;241m=\u001b[39m \u001b[38;5;28mself\u001b[39m\u001b[38;5;241m.\u001b[39mexceptions\u001b[38;5;241m.\u001b[39mfrom_code(error_code)\n\u001b[1;32m-> 1023\u001b[0m     \u001b[38;5;28;01mraise\u001b[39;00m error_class(parsed_response, operation_name)\n\u001b[0;32m   1024\u001b[0m \u001b[38;5;28;01melse\u001b[39;00m:\n\u001b[0;32m   1025\u001b[0m     \u001b[38;5;28;01mreturn\u001b[39;00m parsed_response\n",
      "\u001b[1;31mResourceInUseException\u001b[0m: An error occurred (ResourceInUseException) when calling the CreateTable operation: Table already exists: Movies"
     ]
    }
   ],
   "source": [
    "#Create DynamoDB table\n",
    "def create_movie_table():\n",
    "    table = client.create_table(\n",
    "        TableName='Movies',\n",
    "        KeySchema=[\n",
    "            {\n",
    "                'AttributeName': 'year',\n",
    "                'KeyType': 'HASH'  # Partition key\n",
    "            },\n",
    "            {\n",
    "                'AttributeName': 'title',\n",
    "                'KeyType': 'RANGE'  # Sort key\n",
    "            }\n",
    "        ],\n",
    "        AttributeDefinitions=[\n",
    "            {\n",
    "                'AttributeName': 'year',\n",
    "                'AttributeType': 'N'\n",
    "            },\n",
    "            {\n",
    "                'AttributeName': 'title',\n",
    "                'AttributeType': 'S'\n",
    "            },\n",
    "\n",
    "        ],\n",
    "        ProvisionedThroughput={\n",
    "            'ReadCapacityUnits': 10,\n",
    "            'WriteCapacityUnits': 10\n",
    "        }\n",
    "    )\n",
    "    return table\n",
    "\n",
    "\n",
    "if __name__ == '__main__':\n",
    "\n",
    "    ## Create DynamoDB\n",
    "    movie_table = create_movie_table()\n",
    "    print(\"Create DynamoDB succeeded............\")\n",
    "    print(\"Table status:{}\".format(movie_table))\n"
   ]
  },
  {
   "cell_type": "code",
   "execution_count": 27,
   "metadata": {},
   "outputs": [
    {
     "name": "stdout",
     "output_type": "stream",
     "text": [
      "Insert operation succeeded:\n",
      "{'ResponseMetadata': {'RequestId': '5527VPOJBI3G0LRN3GO3PJDHUVVV4KQNSO5AEMVJF66Q9ASUAAJG',\n",
      "                      'HTTPStatusCode': 200,\n",
      "                      'HTTPHeaders': {'server': 'Server',\n",
      "                                      'date': 'Fri, 25 Oct 2024 03:45:59 GMT',\n",
      "                                      'content-type': 'application/x-amz-json-1.0',\n",
      "                                      'content-length': '2',\n",
      "                                      'connection': 'keep-alive',\n",
      "                                      'x-amzn-requestid': '5527VPOJBI3G0LRN3GO3PJDHUVVV4KQNSO5AEMVJF66Q9ASUAAJG',\n",
      "                                      'x-amz-crc32': '2745614147'},\n",
      "                      'RetryAttempts': 0}}\n"
     ]
    }
   ],
   "source": [
    "\n",
    "\n",
    "# Initialize DynamoDB client\n",
    "client = boto3.client('dynamodb')\n",
    "\n",
    "# Function to insert a movie record into the DynamoDB table\n",
    "def put_movie(title, year, plot, rating):\n",
    "    response = client.put_item(\n",
    "        TableName=\"Movies\",\n",
    "        Item={\n",
    "            'year': {\n",
    "                'N': str(year),  # 'N' for number\n",
    "            },\n",
    "            'title': {\n",
    "                'S': title,  # 'S' for string\n",
    "            },\n",
    "            'plot': {\n",
    "                'S': plot,\n",
    "            },\n",
    "            'rating': {\n",
    "                'N': str(rating),\n",
    "            }\n",
    "        }\n",
    "    )\n",
    "    return response\n",
    "\n",
    "# Call function to insert data\n",
    "movie_resp = put_movie(\"Inception\", 2010, \"A mind-bending thriller\", 9)\n",
    "print(\"Insert operation succeeded:\")\n",
    "pprint(movie_resp, sort_dicts=False)\n"
   ]
  },
  {
   "cell_type": "code",
   "execution_count": 19,
   "metadata": {},
   "outputs": [
    {
     "name": "stdout",
     "output_type": "stream",
     "text": [
      "Get operation succeeded:\n",
      "{'Item': {'year': {'N': '2010'},\n",
      "          'plot': {'S': 'A mind-bending thriller'},\n",
      "          'rating': {'N': '9'},\n",
      "          'title': {'S': 'Inception'}},\n",
      " 'ResponseMetadata': {'RequestId': 'FLAOMPLE9RO53VSMJO72Q8OGJVVV4KQNSO5AEMVJF66Q9ASUAAJG',\n",
      "                      'HTTPStatusCode': 200,\n",
      "                      'HTTPHeaders': {'server': 'Server',\n",
      "                                      'date': 'Fri, 25 Oct 2024 03:41:46 GMT',\n",
      "                                      'content-type': 'application/x-amz-json-1.0',\n",
      "                                      'content-length': '114',\n",
      "                                      'connection': 'keep-alive',\n",
      "                                      'x-amzn-requestid': 'FLAOMPLE9RO53VSMJO72Q8OGJVVV4KQNSO5AEMVJF66Q9ASUAAJG',\n",
      "                                      'x-amz-crc32': '965914495'},\n",
      "                      'RetryAttempts': 0}}\n"
     ]
    }
   ],
   "source": [
    "# Function to get a movie record from the DynamoDB table\n",
    "def get_movie(title, year):\n",
    "    response = client.get_item(\n",
    "        TableName=\"Movies\",\n",
    "        Key={\n",
    "            'year': {\n",
    "                'N': str(year),\n",
    "            },\n",
    "            'title': {\n",
    "                'S': title,\n",
    "            }\n",
    "        }\n",
    "    )\n",
    "    return response\n",
    "\n",
    "# Call function to get data\n",
    "movie_resp = get_movie(\"Inception\", 2010)\n",
    "print(\"Get operation succeeded:\")\n",
    "pprint(movie_resp, sort_dicts=False)\n"
   ]
  },
  {
   "cell_type": "code",
   "execution_count": 20,
   "metadata": {},
   "outputs": [
    {
     "name": "stdout",
     "output_type": "stream",
     "text": [
      "Update operation succeeded:\n",
      "{'Attributes': {'rating': {'N': '10'}},\n",
      " 'ResponseMetadata': {'RequestId': 'LN3VET42FKT62FDV9R12I3TDPNVV4KQNSO5AEMVJF66Q9ASUAAJG',\n",
      "                      'HTTPStatusCode': 200,\n",
      "                      'HTTPHeaders': {'server': 'Server',\n",
      "                                      'date': 'Fri, 25 Oct 2024 03:41:56 GMT',\n",
      "                                      'content-type': 'application/x-amz-json-1.0',\n",
      "                                      'content-length': '36',\n",
      "                                      'connection': 'keep-alive',\n",
      "                                      'x-amzn-requestid': 'LN3VET42FKT62FDV9R12I3TDPNVV4KQNSO5AEMVJF66Q9ASUAAJG',\n",
      "                                      'x-amz-crc32': '2898488653'},\n",
      "                      'RetryAttempts': 0}}\n"
     ]
    }
   ],
   "source": [
    "# Function to update a movie record in the DynamoDB table\n",
    "def update_movie(title, year, rating):\n",
    "    response = client.update_item(\n",
    "        TableName=\"Movies\",\n",
    "        Key={\n",
    "            'year': {\n",
    "                'N': str(year),\n",
    "            },\n",
    "            'title': {\n",
    "                'S': title,\n",
    "            }\n",
    "        },\n",
    "        UpdateExpression=\"SET rating = :r\",\n",
    "        ExpressionAttributeValues={\n",
    "            ':r': {'N': str(rating)},\n",
    "        },\n",
    "        ReturnValues=\"UPDATED_NEW\"  # Return the updated values\n",
    "    )\n",
    "    return response\n",
    "\n",
    "# Call function to update data\n",
    "update_resp = update_movie(\"Inception\", 2010, 10)\n",
    "print(\"Update operation succeeded:\")\n",
    "pprint(update_resp, sort_dicts=False)\n"
   ]
  },
  {
   "cell_type": "code",
   "execution_count": 21,
   "metadata": {},
   "outputs": [
    {
     "name": "stdout",
     "output_type": "stream",
     "text": [
      "Delete operation succeeded:\n",
      "{'Attributes': {'plot': {'S': 'A mind-bending thriller'},\n",
      "                'year': {'N': '2010'},\n",
      "                'rating': {'N': '10'},\n",
      "                'title': {'S': 'Inception'}},\n",
      " 'ResponseMetadata': {'RequestId': 'HK9DF89FGA53UQM7CHFMIC2T7NVV4KQNSO5AEMVJF66Q9ASUAAJG',\n",
      "                      'HTTPStatusCode': 200,\n",
      "                      'HTTPHeaders': {'server': 'Server',\n",
      "                                      'date': 'Fri, 25 Oct 2024 03:42:08 GMT',\n",
      "                                      'content-type': 'application/x-amz-json-1.0',\n",
      "                                      'content-length': '121',\n",
      "                                      'connection': 'keep-alive',\n",
      "                                      'x-amzn-requestid': 'HK9DF89FGA53UQM7CHFMIC2T7NVV4KQNSO5AEMVJF66Q9ASUAAJG',\n",
      "                                      'x-amz-crc32': '1060972993'},\n",
      "                      'RetryAttempts': 0}}\n"
     ]
    }
   ],
   "source": [
    "# Function to delete a movie record from the DynamoDB table\n",
    "def delete_movie(title, year):\n",
    "    response = client.delete_item(\n",
    "        TableName=\"Movies\",\n",
    "        Key={\n",
    "            'year': {\n",
    "                'N': str(year),\n",
    "            },\n",
    "            'title': {\n",
    "                'S': title,\n",
    "            }\n",
    "        },\n",
    "        ReturnValues=\"ALL_OLD\"  # Return the deleted item\n",
    "    )\n",
    "    return response\n",
    "\n",
    "# Call function to delete data\n",
    "delete_resp = delete_movie(\"Inception\", 2010)\n",
    "print(\"Delete operation succeeded:\")\n",
    "pprint(delete_resp, sort_dicts=False)\n"
   ]
  },
  {
   "cell_type": "code",
   "execution_count": 28,
   "metadata": {},
   "outputs": [
    {
     "name": "stdout",
     "output_type": "stream",
     "text": [
      "Scan operation succeeded:\n",
      "{'Items': [{'year': {'N': '2010'},\n",
      "            'plot': {'S': 'A mind-bending thriller'},\n",
      "            'rating': {'N': '9'},\n",
      "            'title': {'S': 'Inception'}},\n",
      "           {'year': {'N': '2024'},\n",
      "            'plot': {'S': 'Science fiction'},\n",
      "            'rating': {'N': '9'},\n",
      "            'title': {'S': 'Kalki'}}],\n",
      " 'Count': 2,\n",
      " 'ScannedCount': 2,\n",
      " 'ResponseMetadata': {'RequestId': '04DJ0F2BRA3KML25IFH6UEMJUJVV4KQNSO5AEMVJF66Q9ASUAAJG',\n",
      "                      'HTTPStatusCode': 200,\n",
      "                      'HTTPHeaders': {'server': 'Server',\n",
      "                                      'date': 'Fri, 25 Oct 2024 03:46:12 GMT',\n",
      "                                      'content-type': 'application/x-amz-json-1.0',\n",
      "                                      'content-length': '238',\n",
      "                                      'connection': 'keep-alive',\n",
      "                                      'x-amzn-requestid': '04DJ0F2BRA3KML25IFH6UEMJUJVV4KQNSO5AEMVJF66Q9ASUAAJG',\n",
      "                                      'x-amz-crc32': '2287139331'},\n",
      "                      'RetryAttempts': 0}}\n"
     ]
    }
   ],
   "source": [
    "# Function to scan all records in the table\n",
    "def scan_movies():\n",
    "    response = client.scan(\n",
    "        TableName=\"Movies\"\n",
    "    )\n",
    "    return response\n",
    "\n",
    "# Call function to scan data\n",
    "scan_resp = scan_movies()\n",
    "print(\"Scan operation succeeded:\")\n",
    "pprint(scan_resp, sort_dicts=False)\n"
   ]
  }
 ],
 "metadata": {
  "kernelspec": {
   "display_name": "Python 3",
   "language": "python",
   "name": "python3"
  },
  "language_info": {
   "codemirror_mode": {
    "name": "ipython",
    "version": 3
   },
   "file_extension": ".py",
   "mimetype": "text/x-python",
   "name": "python",
   "nbconvert_exporter": "python",
   "pygments_lexer": "ipython3",
   "version": "3.12.3"
  }
 },
 "nbformat": 4,
 "nbformat_minor": 2
}
