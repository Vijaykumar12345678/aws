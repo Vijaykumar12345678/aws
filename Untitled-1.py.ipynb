{
 "cells": [
  {
   "cell_type": "code",
   "execution_count": null,
   "metadata": {},
   "outputs": [],
   "source": []
  },
  {
   "cell_type": "code",
   "execution_count": null,
   "metadata": {},
   "outputs": [],
   "source": []
  },
  {
   "cell_type": "code",
   "execution_count": null,
   "metadata": {},
   "outputs": [],
   "source": [
    "from pyspark.sql import  SparkSession\n",
    "from pyspark.sql.functions import expr,col\n",
    "spark=(SparkSession.builder.appName(\"practice\").master(\"local[*]\").getOrCreate())"
   ]
  },
  {
   "cell_type": "code",
   "execution_count": 108,
   "metadata": {},
   "outputs": [
    {
     "data": {
      "text/html": [
       "\n",
       "            <div>\n",
       "                <p><b>SparkSession - in-memory</b></p>\n",
       "                \n",
       "        <div>\n",
       "            <p><b>SparkContext</b></p>\n",
       "\n",
       "            <p><a href=\"http://192.168.2.175:4040\">Spark UI</a></p>\n",
       "\n",
       "            <dl>\n",
       "              <dt>Version</dt>\n",
       "                <dd><code>v3.5.3</code></dd>\n",
       "              <dt>Master</dt>\n",
       "                <dd><code>local[*]</code></dd>\n",
       "              <dt>AppName</dt>\n",
       "                <dd><code>practice</code></dd>\n",
       "            </dl>\n",
       "        </div>\n",
       "        \n",
       "            </div>\n",
       "        "
      ],
      "text/plain": [
       "<pyspark.sql.session.SparkSession at 0x2d8e9e57170>"
      ]
     },
     "execution_count": 108,
     "metadata": {},
     "output_type": "execute_result"
    }
   ],
   "source": [
    "spark\n",
    "\n"
   ]
  },
  {
   "cell_type": "code",
   "execution_count": null,
   "metadata": {},
   "outputs": [
    {
     "name": "stdout",
     "output_type": "stream",
     "text": [
      "root\n",
      " |-- track_name: string (nullable = true)\n",
      " |-- track_id: string (nullable = true)\n",
      " |-- duration_ms: string (nullable = true)\n",
      " |-- album_name: string (nullable = true)\n",
      " |-- release_date: string (nullable = true)\n",
      " |-- label: string (nullable = true)\n",
      " |-- album_popularity: string (nullable = true)\n",
      " |-- album_id: string (nullable = true)\n",
      " |-- artist_id: string (nullable = true)\n",
      " |-- duration_sec: string (nullable = true)\n",
      "\n"
     ]
    }
   ],
   "source": [
    "df=spark.read.csv(\"C://Users/Admin/Downloads/albums.csv\",header=True,inferSchema=True)\n",
    "df.printSchema()"
   ]
  },
  {
   "cell_type": "code",
   "execution_count": null,
   "metadata": {},
   "outputs": [
    {
     "data": {
      "text/plain": [
       "DataFrame[track_id: string, duration_ms: string, album_name: string, label: string, album_popularity: string, album_id: string, artist_id: string, duration_sec: string]"
      ]
     },
     "execution_count": 101,
     "metadata": {},
     "output_type": "execute_result"
    }
   ],
   "source": [
    "df.drop('track_name','release_date')"
   ]
  },
  {
   "cell_type": "code",
   "execution_count": null,
   "metadata": {},
   "outputs": [
    {
     "name": "stdout",
     "output_type": "stream",
     "text": [
      "+--------------------+\n",
      "|          track_name|\n",
      "+--------------------+\n",
      "|       Amazing Grace|\n",
      "|        Silent Night|\n",
      "|     Ancient Canyons|\n",
      "| Pacha Mama Medicina|\n",
      "|     Palace Of Light|\n",
      "|Jeweled Lotus (Om...|\n",
      "|Loka (May All Bei...|\n",
      "|Shiva Radiance (I...|\n",
      "|       Dream Healing|\n",
      "|  See The World Burn|\n",
      "|         Black Sands|\n",
      "|         Squad Goals|\n",
      "|            All Gold|\n",
      "|          Gladiators|\n",
      "|               Power|\n",
      "|         Bright Side|\n",
      "|     Rumble In Kerma|\n",
      "|            The Coin|\n",
      "|    Kings And Queens|\n",
      "|               Reign|\n",
      "+--------------------+\n",
      "only showing top 20 rows\n",
      "\n"
     ]
    }
   ],
   "source": [
    "df.select('track_name').show()"
   ]
  },
  {
   "cell_type": "code",
   "execution_count": null,
   "metadata": {},
   "outputs": [],
   "source": [
    "grouped_df = df.groupBy(\"album_popularity\").count()"
   ]
  },
  {
   "cell_type": "code",
   "execution_count": null,
   "metadata": {},
   "outputs": [],
   "source": [
    "filtered_df = grouped_df.filter(grouped_df['count'] > 1000)"
   ]
  },
  {
   "cell_type": "code",
   "execution_count": null,
   "metadata": {},
   "outputs": [
    {
     "name": "stdout",
     "output_type": "stream",
     "text": [
      "+----------------+-----+\n",
      "|album_popularity|count|\n",
      "+----------------+-----+\n",
      "|               7| 9639|\n",
      "|              51| 1614|\n",
      "|              15| 5570|\n",
      "|              54| 1574|\n",
      "|              11| 7584|\n",
      "|              29| 3864|\n",
      "|              69| 1459|\n",
      "|              42| 2959|\n",
      "|              64| 1415|\n",
      "|               3|16969|\n",
      "|              30| 3986|\n",
      "|              34| 3698|\n",
      "|              59| 1986|\n",
      "|               8| 8502|\n",
      "|              22| 4632|\n",
      "|              28| 4193|\n",
      "|              16| 5956|\n",
      "|              35| 3344|\n",
      "|              52| 1911|\n",
      "|               0|86544|\n",
      "+----------------+-----+\n",
      "only showing top 20 rows\n",
      "\n"
     ]
    }
   ],
   "source": [
    "filtered_df.show()"
   ]
  },
  {
   "cell_type": "code",
   "execution_count": null,
   "metadata": {},
   "outputs": [],
   "source": [
    "spark.shop()"
   ]
  }
 ],
 "metadata": {
  "kernelspec": {
   "display_name": "Python 3.12.3 64-bit",
   "language": "python",
   "name": "python3"
  },
  "language_info": {
   "codemirror_mode": {
    "name": "ipython",
    "version": 3
   },
   "file_extension": ".py",
   "mimetype": "text/x-python",
   "name": "python",
   "nbconvert_exporter": "python",
   "pygments_lexer": "ipython3",
   "version": "3.12.3"
  },
  "orig_nbformat": 4,
  "vscode": {
   "interpreter": {
    "hash": "3fcbd7240ee8f908d933dc7f71e8c42a1a91163b70ede8dcff5146d4087436c7"
   }
  }
 },
 "nbformat": 4,
 "nbformat_minor": 2
}
